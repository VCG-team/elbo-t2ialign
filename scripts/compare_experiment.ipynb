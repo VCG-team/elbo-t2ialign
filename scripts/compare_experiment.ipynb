{
 "cells": [
  {
   "cell_type": "code",
   "execution_count": null,
   "metadata": {},
   "outputs": [],
   "source": [
    "# This script is used to find images which have the most different prediction in 2 experiments\n",
    "# input: the prediction folder of 2 experiments\n",
    "# output: list of images which have the most different predicted masks"
   ]
  },
  {
   "cell_type": "code",
   "execution_count": 20,
   "metadata": {},
   "outputs": [],
   "source": [
    "import numpy as np\n",
    "import os\n",
    "from PIL import Image\n",
    "# cls_path = \"/data2/wjl/diffusion/ddsseg/data/voc/cls_labels.npy\"\n",
    "cls_path = \"/data2/wjl/diffusion/ddsseg/data/synthetic/cls_labels.npy\"\n",
    "labels = np.load(cls_path, allow_pickle=True)\n",
    "# ids_path = \"/data2/wjl/diffusion/ddsseg/data/voc/train_id.txt\"\n",
    "ids_path = \"/data2/wjl/diffusion/ddsseg/data/synthetic/random_category.txt\"\n",
    "df = open(ids_path)\n",
    "name_list = [name.strip() for name in df.readlines()]\n",
    "# data_root = \"/data2/wjl/diffusion/ddsseg/datasets/VOCdevkit/VOC2012/SegmentationClassAug\"\n",
    "mask_root = \"/data2/wjl/diffusion/ddsseg/datasets/synthetic_dataset/dataset/masks\"\n",
    "sds_threshold = 0.43\n",
    "dds_threshold = 0.43"
   ]
  },
  {
   "cell_type": "code",
   "execution_count": 21,
   "metadata": {},
   "outputs": [],
   "source": [
    "cls2idx = {\n",
    "  'plane': 1,\n",
    "  'bicycle': 2,\n",
    "  'bird':3,\n",
    "  'boat': 4,\n",
    "  'bottle':5,\n",
    "  'buses': 6,\n",
    "  'car':7,\n",
    "  'cat':8,\n",
    "  'chair':9,\n",
    "  'cow': 10,\n",
    "  'table':11 ,\n",
    "  'dog': 12,\n",
    "  'horse': 13,\n",
    "  'motorbike':14 ,\n",
    "  'people':15,\n",
    "  'plant': 16,\n",
    "  'sheep': 17,\n",
    "  'sofa': 18,\n",
    "  'train': 19,\n",
    "  'monitor': 20}\n",
    "idx2cls = ['plane', 'bicycle', 'bird', 'boat', 'bottle', 'buses', 'car', 'cat', 'chair', 'cow', \n",
    "           'table', 'dog', 'horse', 'motorbike', 'people', 'plant', 'sheep', 'sofa', 'train', 'monitor']"
   ]
  },
  {
   "cell_type": "code",
   "execution_count": 22,
   "metadata": {},
   "outputs": [],
   "source": [
    "def calculate_iou(mask1, mask2):\n",
    "    intersection = np.logical_and(mask1, mask2)\n",
    "    union = np.logical_or(mask1, mask2)\n",
    "    iou = np.sum(intersection) / np.sum(union)\n",
    "    iou = int(iou * 100) / 100\n",
    "    return iou\n",
    "\n",
    "def count_iou(id,name_list, img_path, mask_root, threshold):\n",
    "    name = name_list[id]\n",
    "    gt_path = os.path.join(mask_root, name + \".png\")\n",
    "    gt =  np.array(Image.open(gt_path))\n",
    "    gt[gt==255]=0\n",
    "    idx_list = np.unique(gt)[1:]\n",
    "    gt_mask = [gt == 0]\n",
    "    for idx in idx_list:\n",
    "        mask = (gt == idx)\n",
    "        gt_mask.append(mask)\n",
    "    \n",
    "    pre_list = []\n",
    "    for idx in idx_list:\n",
    "        cls = idx2cls[idx-1]\n",
    "        predict_img_path = os.path.join(img_path, str(id) + \"_\" + cls + \".png\")\n",
    "        predict_img = np.array(Image.open(predict_img_path))\n",
    "        predict_img = (predict_img - predict_img.min())/(predict_img.max() - predict_img.min())\n",
    "        pre_list.append(predict_img)\n",
    "        \n",
    "    dds_array = np.full(pre_list[0].shape, threshold)\n",
    "    pre_list = [dds_array] + pre_list\n",
    "    pre_list = np.array(pre_list)\n",
    "    \n",
    "    mask_pred = np.argmax(pre_list, axis=0)\n",
    "    iou_dict = {}\n",
    "    fg_iou = 0\n",
    "    for i in range(len(pre_list)):\n",
    "        iou = calculate_iou(mask_pred == i, gt_mask[i])\n",
    "        if i==0:\n",
    "            iou_dict['bg'] = iou\n",
    "        else:\n",
    "            iou_dict[idx2cls[idx_list[i-1]-1]] = iou\n",
    "            fg_iou += iou\n",
    "    fg_iou /= len(idx_list)\n",
    "    return iou_dict, fg_iou\n",
    "\n"
   ]
  },
  {
   "cell_type": "code",
   "execution_count": null,
   "metadata": {},
   "outputs": [],
   "source": [
    "dds_path = \"/data2/wjl/diffusion/ddsseg/output/synthetic/dds_baseline/masks\"\n",
    "sds_path = \"/data2/wjl/diffusion/ddsseg/output/synthetic/sds_baseline/masks\"\n",
    "# dds_dict, fg_dds = count_iou(229,name_list, dds_path, mask_root, dds_threshold)\n",
    "cmp_list = []\n",
    "dds_dict_list = []\n",
    "sds_dict_list = []\n",
    "for i in range(len(name_list)):\n",
    "    dds_dict, fg_dds = count_iou(i,name_list, dds_path, mask_root, dds_threshold)\n",
    "    sds_dict, fg_sds = count_iou(i,name_list, sds_path, mask_root, sds_threshold)\n",
    "    cmp_list.append(fg_dds-fg_sds)\n",
    "    dds_dict_list.append(dds_dict)\n",
    "    sds_dict_list.append(sds_dict)"
   ]
  },
  {
   "cell_type": "code",
   "execution_count": null,
   "metadata": {},
   "outputs": [],
   "source": [
    "sorted_indices = sorted(range(len(cmp_list)), key=lambda i: cmp_list[i], reverse=True)\n",
    "top_20_indices = sorted_indices[:20]\n",
    "for indice in top_20_indices:\n",
    "    print(indice)\n",
    "    print(f\"dds:{dds_dict_list[indice]}\")\n",
    "    print(f\"sds:{sds_dict_list[indice]}\")\n",
    "    print(cmp_list[indice])\n",
    "    print(\"\\n\")"
   ]
  }
 ],
 "metadata": {
  "kernelspec": {
   "display_name": "ddsseg",
   "language": "python",
   "name": "python3"
  },
  "language_info": {
   "codemirror_mode": {
    "name": "ipython",
    "version": 3
   },
   "file_extension": ".py",
   "mimetype": "text/x-python",
   "name": "python",
   "nbconvert_exporter": "python",
   "pygments_lexer": "ipython3",
   "version": "3.11.9"
  }
 },
 "nbformat": 4,
 "nbformat_minor": 2
}
