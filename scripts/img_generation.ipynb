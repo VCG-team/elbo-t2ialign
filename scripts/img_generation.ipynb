{
 "cells": [
  {
   "cell_type": "code",
   "execution_count": 1,
   "metadata": {},
   "outputs": [],
   "source": [
    "# This script is used to generate image from text prompt using diffusion models\n",
    "# input: random seed, timesteps, text prompt\n",
    "# output: generated image"
   ]
  },
  {
   "cell_type": "markdown",
   "metadata": {},
   "source": [
    "## Initialization"
   ]
  },
  {
   "cell_type": "code",
   "execution_count": 2,
   "metadata": {},
   "outputs": [],
   "source": [
    "# set gpu device\n",
    "import os\n",
    "\n",
    "os.environ[\"CUDA_VISIBLE_DEVICES\"] = \"0,1\""
   ]
  },
  {
   "cell_type": "code",
   "execution_count": null,
   "metadata": {},
   "outputs": [],
   "source": [
    "# package and helper functions\n",
    "import warnings\n",
    "from typing import List, Optional\n",
    "\n",
    "import torch\n",
    "from diffusers import AutoPipelineForText2Image\n",
    "import random\n",
    "import numpy as np\n",
    "\n",
    "from utils.diffusion import Diffusion\n",
    "from utils.img2text import Img2Text\n",
    "from utils.parse_args import parse_args\n",
    "\n",
    "T = torch.Tensor\n",
    "TL = List[T]\n",
    "TN = Optional[T]"
   ]
  },
  {
   "cell_type": "code",
   "execution_count": null,
   "metadata": {},
   "outputs": [],
   "source": [
    "# load config and model\n",
    "warnings.filterwarnings(\"ignore\")\n",
    "config = parse_args(\"segmentation\", False, [\"diffusion.variant=stabilityai/stable-diffusion-3.5-medium\"])\n",
    "img2text = Img2Text(config)\n",
    "diffusion_dtype = torch.float16 if config.diffusion.dtype == \"fp16\" else torch.float32\n",
    "pipe = AutoPipelineForText2Image.from_pretrained(\n",
    "    config.diffusion.variant,\n",
    "    torch_dtype=diffusion_dtype,\n",
    "    use_safetensors=True,\n",
    "    cache_dir=config.model_dir,\n",
    "    device_map=config.diffusion.device_map,\n",
    ")\n",
    "diffusion = Diffusion(pipe)"
   ]
  },
  {
   "cell_type": "markdown",
   "metadata": {},
   "source": [
    "# Input"
   ]
  },
  {
   "cell_type": "code",
   "execution_count": 9,
   "metadata": {},
   "outputs": [],
   "source": [
    "prompt = \"a painting of a cat\"\n",
    "infer_timesteps = 50\n",
    "random_seed = 4309"
   ]
  },
  {
   "cell_type": "markdown",
   "metadata": {},
   "source": [
    "# Generation"
   ]
  },
  {
   "cell_type": "code",
   "execution_count": 10,
   "metadata": {},
   "outputs": [],
   "source": [
    "random.seed(random_seed)\n",
    "np.random.seed(random_seed)\n",
    "torch.manual_seed(random_seed)\n",
    "torch.backends.cudnn.benchmark = False\n",
    "torch.backends.cudnn.deterministic = True\n",
    "\n",
    "with torch.inference_mode():\n",
    "\n",
    "    # 1. prepare latent\n",
    "    latent = diffusion.prepare_latent()\n",
    "\n",
    "    # 2. prepare text embedding\n",
    "    negtive_prompt = \"\"\n",
    "    pos_text_emb = diffusion.encode_prompt(prompt)\n",
    "    neg_text_emb = diffusion.encode_prompt(negtive_prompt)\n",
    "\n",
    "    # 3. prepare timesteps\n",
    "    train_timesteps = diffusion.scheduler.config.num_train_timesteps\n",
    "    step_ratio = train_timesteps // infer_timesteps\n",
    "    timesteps = list(range(train_timesteps - 1, 0, -step_ratio))\n",
    "\n",
    "    # 4. reverse diffusion process\n",
    "    for t in timesteps:\n",
    "        model_pred_cond, model_pred_uncond = diffusion.get_model_prediction(\n",
    "            [latent, latent], [t, t], [pos_text_emb, neg_text_emb]\n",
    "        ).chunk(2)\n",
    "        model_pred = diffusion.classifier_free_guidance(\n",
    "            model_pred_uncond, model_pred_cond\n",
    "        )\n",
    "        latent = diffusion.step(latent, t, max(0, t - step_ratio), model_pred)\n",
    "\n",
    "    # 5. decode latent to image\n",
    "    img = diffusion.decode_latent(latent)[0]\n",
    "    img.save(\"./tmp/example.png\")"
   ]
  }
 ],
 "metadata": {
  "kernelspec": {
   "display_name": "ddsseg",
   "language": "python",
   "name": "python3"
  },
  "language_info": {
   "codemirror_mode": {
    "name": "ipython",
    "version": 3
   },
   "file_extension": ".py",
   "mimetype": "text/x-python",
   "name": "python",
   "nbconvert_exporter": "python",
   "pygments_lexer": "ipython3",
   "version": "3.11.9"
  }
 },
 "nbformat": 4,
 "nbformat_minor": 2
}
