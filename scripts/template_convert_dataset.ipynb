{
 "cells": [
  {
   "cell_type": "code",
   "execution_count": null,
   "metadata": {},
   "outputs": [],
   "source": [
    "# This script is used to convert normal segmentation dataset to usable dataset for project\n",
    "# For different dataset, the convert script may be very different, the template takes ADE20K(https://github.com/open-mmlab/mmsegmentation/blob/main/docs/en/user_guides/2_dataset_prepare.md#ade20k) dataset as an exmaple\n",
    "# input: img_paths, gt_paths, mapping of idx to cls, dataset_name\n",
    "# output: generate files used by project"
   ]
  },
  {
   "cell_type": "code",
   "execution_count": null,
   "metadata": {},
   "outputs": [],
   "source": [
    "# import package\n",
    "from matplotlib import pyplot as plt\n",
    "from PIL import Image\n",
    "import numpy as np\n",
    "from pathlib import Path\n",
    "from omegaconf import OmegaConf\n",
    "from utils.datasets import convert_dataset\n",
    "import pandas as pd"
   ]
  },
  {
   "cell_type": "code",
   "execution_count": null,
   "metadata": {},
   "outputs": [],
   "source": [
    "# input\n",
    "img_folder = './datasets/ade/ADEChallengeData2016/images/validation'\n",
    "gt_folder = './datasets/ade/ADEChallengeData2016/annotations/validation'"
   ]
  },
  {
   "cell_type": "markdown",
   "metadata": {},
   "source": [
    "## Check Segmentation Ground Truth Format"
   ]
  },
  {
   "cell_type": "code",
   "execution_count": null,
   "metadata": {},
   "outputs": [],
   "source": [
    "example_img_path = './datasets/ade/ADEChallengeData2016/images/validation/ADE_val_00000001.jpg'\n",
    "example_gt_path = './datasets/ade/ADEChallengeData2016/annotations/validation/ADE_val_00000001.png'\n",
    "example_img = Image.open(example_img_path)\n",
    "example_gt = Image.open(example_gt_path).convert('L')\n",
    "\n",
    "# display example image and ground truth\n",
    "fig, ax = plt.subplots(1, 2, figsize=(10, 5))\n",
    "ax[0].imshow(example_img)\n",
    "ax[0].axis('off')\n",
    "ax[0].set_title('Image')\n",
    "ax[1].imshow(example_gt)\n",
    "ax[1].axis('off')\n",
    "ax[1].set_title('Ground Truth')\n",
    "plt.show()\n",
    "\n",
    "# check idxes in ground truth\n",
    "idxes,counts = np.unique(example_gt,return_counts=True)\n",
    "print('idxes in ground truth:', idxes)\n",
    "print('counts in ground truth:', counts)\n",
    "\n",
    "# check img and gt shape\n",
    "print('img shape:', example_img.size)\n",
    "print('gt shape:', example_gt.size)"
   ]
  },
  {
   "cell_type": "markdown",
   "metadata": {},
   "source": [
    "## Build img_paths, gt_paths, idx2cls, dataset_name"
   ]
  },
  {
   "cell_type": "code",
   "execution_count": null,
   "metadata": {},
   "outputs": [],
   "source": [
    "img_paths = []\n",
    "gt_paths = []\n",
    "idx2cls = {}\n",
    "dataset_name = \"ade20k\"\n",
    "\n",
    "# img paths and gt paths\n",
    "img_folder_path = Path(img_folder)\n",
    "gt_folder_path = Path(gt_folder)\n",
    "for img_path in img_folder_path.glob(\"*.jpg\"):\n",
    "    gt_path = gt_folder_path / (img_path.stem + \".png\")\n",
    "    img_paths.append(str(img_path))\n",
    "    gt_paths.append(str(gt_path))\n",
    "img_paths.sort()\n",
    "gt_paths.sort()\n",
    "\n",
    "# idx to cls\n",
    "idx2cls_file = \"./datasets/ade/ADEChallengeData2016/objectInfo150.txt\"\n",
    "df = pd.read_csv(idx2cls_file, delimiter=\"\\t\")\n",
    "idx_name = df[[\"Idx\", \"Name\"]]\n",
    "idx_name = idx_name.to_numpy()\n",
    "for idx, name in idx_name:\n",
    "    idx2cls[idx] = name.split(\",\")[0].strip()"
   ]
  },
  {
   "cell_type": "markdown",
   "metadata": {},
   "source": [
    "## Convert Dataset to Project Accepted Format"
   ]
  },
  {
   "cell_type": "code",
   "execution_count": null,
   "metadata": {},
   "outputs": [],
   "source": [
    "# convert dataset\n",
    "convert_dataset(img_paths, gt_paths, idx2cls, dataset_name)"
   ]
  },
  {
   "cell_type": "code",
   "execution_count": null,
   "metadata": {},
   "outputs": [],
   "source": [
    "# post-process (for different dataset, the post-process may be very different)\n",
    "metainfo_config = OmegaConf.load(\"./metadata/ade20k/info.yaml\")\n",
    "metainfo_config.data_root = \"./datasets/ade/ADEChallengeData2016\"\n",
    "metainfo_config.data_name_list = \"./metadata/ade20k/val_id.txt\"\n",
    "metainfo_config.name_to_cls_labels = \"./metadata/ade20k/cls_labels.npy\"\n",
    "metainfo_config.img_path = \"{data_root}/images/validation/{img_name}.jpg\"\n",
    "metainfo_config.gt_path = \"{data_root}/annotations/validation/{img_name}.png\"\n",
    "for idx, name in idx_name:\n",
    "    cls_name = name.split(\",\")[0].strip()\n",
    "    names = [n.strip() for n in name.split(\",\")]\n",
    "    names = [n for n in names if n]\n",
    "    metainfo_config.category[cls_name] = names.copy()\n",
    "\n",
    "OmegaConf.save(metainfo_config, \"./metadata/ade20k/info.yaml\")"
   ]
  }
 ],
 "metadata": {
  "kernelspec": {
   "display_name": "ddsseg",
   "language": "python",
   "name": "python3"
  },
  "language_info": {
   "codemirror_mode": {
    "name": "ipython",
    "version": 3
   },
   "file_extension": ".py",
   "mimetype": "text/x-python",
   "name": "python",
   "nbconvert_exporter": "python",
   "pygments_lexer": "ipython3",
   "version": "3.11.9"
  }
 },
 "nbformat": 4,
 "nbformat_minor": 2
}
