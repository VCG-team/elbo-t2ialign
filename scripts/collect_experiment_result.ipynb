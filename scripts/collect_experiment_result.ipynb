{
 "cells": [
  {
   "cell_type": "code",
   "execution_count": 19,
   "metadata": {},
   "outputs": [],
   "source": [
    "# This script is used to collect experiments' results and generate a summary table\n",
    "# input: path to the directory containing the results\n",
    "# output: show a summary table and optionally save it to a csv file"
   ]
  },
  {
   "cell_type": "code",
   "execution_count": 20,
   "metadata": {},
   "outputs": [],
   "source": [
    "output_folder = '../output'"
   ]
  },
  {
   "cell_type": "code",
   "execution_count": null,
   "metadata": {},
   "outputs": [],
   "source": [
    "from pathlib import Path\n",
    "import pandas as pd\n",
    "import json\n",
    "from itables import init_notebook_mode\n",
    "\n",
    "init_notebook_mode(all_interactive=True)\n",
    "output = Path(output_folder)\n",
    "items = {\n",
    "    \"Experiment\": [],\n",
    "    \"Dataset\": [],\n",
    "    \"mIoU\": [],\n",
    "    \"mIoU(dcrf)\": [],\n",
    "    \"m_TP_T\": [],\n",
    "    \"m_TP_P\": [],\n",
    "    \"ExperimentPath\": [],\n",
    "}\n",
    "for experiment in output.iterdir():\n",
    "    for dataset in experiment.iterdir():\n",
    "        result_path = dataset / \"segmentation_metrics.json\"\n",
    "        dcrf_result_path = dataset / \"segmentation_metrics_crf.json\"\n",
    "        items[\"Experiment\"].append(experiment.name)\n",
    "        items[\"Dataset\"].append(dataset.name)\n",
    "        items[\"ExperimentPath\"].append(experiment)\n",
    "        if result_path.exists():\n",
    "            with open(result_path) as f:\n",
    "                result = json.load(f)\n",
    "                items[\"mIoU\"].append(round(result[\"overall\"][\"m_IoU\"][0],2))\n",
    "                items[\"m_TP_T\"].append(round(result[\"overall\"][\"m_TP_T\"][0],2))\n",
    "                items[\"m_TP_P\"].append(round(result[\"overall\"][\"m_TP_P\"][0],2))\n",
    "        else:\n",
    "            items[\"mIoU\"].append(None)\n",
    "            items[\"m_TP_T\"].append(None)\n",
    "            items[\"m_TP_P\"].append(None)\n",
    "        if dcrf_result_path.exists():\n",
    "            with open(dcrf_result_path) as f:\n",
    "                result = json.load(f)\n",
    "                items[\"mIoU(dcrf)\"].append(round(result[\"overall\"][\"m_IoU\"][0],2))\n",
    "        else:\n",
    "            items[\"mIoU(dcrf)\"].append(None)\n",
    "table = pd.DataFrame(items)\n",
    "table"
   ]
  }
 ],
 "metadata": {
  "kernelspec": {
   "display_name": "ddsseg",
   "language": "python",
   "name": "python3"
  },
  "language_info": {
   "codemirror_mode": {
    "name": "ipython",
    "version": 3
   },
   "file_extension": ".py",
   "mimetype": "text/x-python",
   "name": "python",
   "nbconvert_exporter": "python",
   "pygments_lexer": "ipython3",
   "version": "3.11.9"
  }
 },
 "nbformat": 4,
 "nbformat_minor": 2
}
