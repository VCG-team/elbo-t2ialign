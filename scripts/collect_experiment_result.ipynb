{
 "cells": [
  {
   "cell_type": "code",
   "execution_count": null,
   "metadata": {},
   "outputs": [],
   "source": [
    "# This script is used to collect experiments' results and generate a summary table\n",
    "# input: path to the directory containing the results, specific cls_name to include in the summary table \n",
    "# output: show a summary table and optionally save it to a csv file"
   ]
  },
  {
   "cell_type": "code",
   "execution_count": null,
   "metadata": {},
   "outputs": [],
   "source": [
    "# import package\n",
    "from pathlib import Path\n",
    "import pandas as pd\n",
    "import json\n",
    "from itables import init_notebook_mode\n",
    "\n",
    "init_notebook_mode(all_interactive=True)"
   ]
  },
  {
   "cell_type": "code",
   "execution_count": null,
   "metadata": {},
   "outputs": [],
   "source": [
    "# input\n",
    "output_folder = './output'\n",
    "cls_name = 'overall' # 'overall', 'background', or specific cls_name"
   ]
  },
  {
   "cell_type": "markdown",
   "metadata": {},
   "source": [
    "## One Dataset Per Row"
   ]
  },
  {
   "cell_type": "code",
   "execution_count": null,
   "metadata": {},
   "outputs": [],
   "source": [
    "output = Path(output_folder)\n",
    "dataset_items = {\n",
    "    \"Experiment\": [],\n",
    "    \"Dataset\": [],\n",
    "    \"mIoU\": [],\n",
    "    \"mIoU(dcrf)\": [],\n",
    "    \"m_TP_T\": [],\n",
    "    \"m_TP_T(dcrf)\": [],\n",
    "    \"m_TP_P\": [],\n",
    "    \"m_TP_P(dcrf)\": [],\n",
    "    \"Threshold\": [],\n",
    "}\n",
    "for experiment in output.iterdir():\n",
    "    for dataset in experiment.iterdir():\n",
    "        result_path = dataset / \"segmentation_metrics.json\"\n",
    "        dcrf_result_path = dataset / \"segmentation_metrics_crf.json\"\n",
    "        if not result_path.exists():\n",
    "            continue\n",
    "        with open(result_path) as f:\n",
    "            result = json.load(f)\n",
    "            if cls_name not in result:\n",
    "                continue\n",
    "            dataset_items[\"Experiment\"].append(experiment.name)\n",
    "            dataset_items[\"Dataset\"].append(dataset.name)\n",
    "            dataset_items[\"mIoU\"].append(round(result[cls_name][\"m_IoU\"][0],2))\n",
    "            dataset_items[\"m_TP_T\"].append(round(result[cls_name][\"m_TP_T\"][0],2))\n",
    "            dataset_items[\"m_TP_P\"].append(round(result[cls_name][\"m_TP_P\"][0],2))\n",
    "            dataset_items[\"Threshold\"].append(result[\"best threshold\"])\n",
    "        if dcrf_result_path.exists():\n",
    "            with open(dcrf_result_path) as f:\n",
    "                result = json.load(f)\n",
    "                dataset_items[\"mIoU(dcrf)\"].append(round(result[cls_name][\"m_IoU\"][0],2))\n",
    "                dataset_items[\"m_TP_T(dcrf)\"].append(round(result[cls_name][\"m_TP_T\"][0],2))\n",
    "                dataset_items[\"m_TP_P(dcrf)\"].append(round(result[cls_name][\"m_TP_P\"][0],2))\n",
    "        else:\n",
    "            dataset_items[\"mIoU(dcrf)\"].append(None)\n",
    "            dataset_items[\"m_TP_T(dcrf)\"].append(None)\n",
    "            dataset_items[\"m_TP_P(dcrf)\"].append(None)\n",
    "dataset_table = pd.DataFrame(dataset_items)\n",
    "dataset_table"
   ]
  },
  {
   "cell_type": "markdown",
   "metadata": {},
   "source": [
    "## One Experiment Per Row"
   ]
  },
  {
   "cell_type": "code",
   "execution_count": null,
   "metadata": {},
   "outputs": [],
   "source": [
    "items_map = {}  # first dim is experiment, second dim is keyword\n",
    "dataset_names = [\"voc_sim\", \"coco_cap\", \"voc\", \"context\", \"coco\"]\n",
    "for idx in range(len(dataset_table)):\n",
    "    # 1. get experiment name\n",
    "    experiment = dataset_items[\"Experiment\"][idx]\n",
    "    if experiment not in items_map:\n",
    "        items_map[experiment] = {}\n",
    "    # 2. get dataset name and keyword\n",
    "    dataset = dataset_items[\"Dataset\"][idx]\n",
    "    for name in dataset_names:\n",
    "        if name in dataset:\n",
    "            keyword = dataset.replace(name, \"\")\n",
    "            dataset = name\n",
    "            break\n",
    "    if keyword not in items_map[experiment]:\n",
    "        items_map[experiment][keyword] = {\n",
    "            \"voc\": None,\n",
    "            \"context\": None,\n",
    "            \"coco\": None,\n",
    "            \"voc_sim\": None,\n",
    "            \"coco_cap\": None,\n",
    "        }\n",
    "    # 3. record the result\n",
    "    items_map[experiment][keyword][dataset] = dataset_items[\"mIoU\"][idx]\n",
    "    # 4. record the result with dcrf\n",
    "    if dataset_items[\"mIoU(dcrf)\"][idx] is not None:\n",
    "        keyword = keyword + \", dcrf\" if keyword else \"dcrf\"\n",
    "        if keyword not in items_map[experiment]:\n",
    "            items_map[experiment][keyword] = {\n",
    "                \"voc\": None,\n",
    "                \"context\": None,\n",
    "                \"coco\": None,\n",
    "                \"voc_sim\": None,\n",
    "                \"coco_cap\": None,\n",
    "            }\n",
    "        items_map[experiment][keyword][dataset] = dataset_items[\"mIoU(dcrf)\"][idx]\n",
    "experiment_items = {\n",
    "    \"Experiment\": [],\n",
    "    \"voc\": [],\n",
    "    \"context\": [],\n",
    "    \"coco\": [],\n",
    "    \"voc_sim\": [],\n",
    "    \"coco_cap\": [],\n",
    "    \"keyword\": [],\n",
    "}\n",
    "for experiment in items_map:\n",
    "    for keyword in items_map[experiment]:\n",
    "        experiment_items[\"Experiment\"].append(experiment)\n",
    "        experiment_items[\"keyword\"].append(keyword)\n",
    "        for dataset in dataset_names:\n",
    "            experiment_items[dataset].append(items_map[experiment][keyword][dataset])\n",
    "experiment_table = pd.DataFrame(experiment_items)\n",
    "experiment_table"
   ]
  }
 ],
 "metadata": {
  "kernelspec": {
   "display_name": "ddsseg",
   "language": "python",
   "name": "python3"
  },
  "language_info": {
   "codemirror_mode": {
    "name": "ipython",
    "version": 3
   },
   "file_extension": ".py",
   "mimetype": "text/x-python",
   "name": "python",
   "nbconvert_exporter": "python",
   "pygments_lexer": "ipython3",
   "version": "3.11.9"
  }
 },
 "nbformat": 4,
 "nbformat_minor": 2
}
