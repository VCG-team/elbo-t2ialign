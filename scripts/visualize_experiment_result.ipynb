{
 "cells": [
  {
   "cell_type": "code",
   "execution_count": null,
   "metadata": {},
   "outputs": [],
   "source": [
    "# This script is used to show source img, target img, generated mask, gt mask of specific experiment\n",
    "# input: path to the experiment folder, number of case to show\n",
    "# output: show related images in this ipynb"
   ]
  },
  {
   "cell_type": "code",
   "execution_count": 7,
   "metadata": {},
   "outputs": [],
   "source": [
    "import sys\n",
    "sys.path.append(\"/data2/zq/codes/ddsseg\")\n",
    "import os\n",
    "os.chdir(\"/data2/zq/codes/ddsseg\")\n",
    "from datasets import VOC12Dataset, COCOClsDataset, VOCContextDataset\n",
    "\n",
    "dataset = 'voc'\n",
    "\n",
    "# construct dataset\n",
    "name_to_cls = {\n",
    "    \"voc\": VOC12Dataset,\n",
    "    \"coco\": COCOClsDataset,\n",
    "    \"context\": VOCContextDataset,\n",
    "}\n",
    "cls = name_to_cls[dataset]\n",
    "ds = cls()"
   ]
  },
  {
   "cell_type": "code",
   "execution_count": null,
   "metadata": {},
   "outputs": [],
   "source": [
    "img_idx = 830\n",
    "\n",
    "ds[img_idx][0]"
   ]
  }
 ],
 "metadata": {
  "kernelspec": {
   "display_name": "ddsseg",
   "language": "python",
   "name": "python3"
  },
  "language_info": {
   "codemirror_mode": {
    "name": "ipython",
    "version": 3
   },
   "file_extension": ".py",
   "mimetype": "text/x-python",
   "name": "python",
   "nbconvert_exporter": "python",
   "pygments_lexer": "ipython3",
   "version": "3.11.9"
  }
 },
 "nbformat": 4,
 "nbformat_minor": 2
}
