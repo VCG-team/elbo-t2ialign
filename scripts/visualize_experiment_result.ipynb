{
 "cells": [
  {
   "cell_type": "code",
   "execution_count": 1,
   "metadata": {},
   "outputs": [],
   "source": [
    "# This script is used to show source img, target img, generated mask, gt mask of specific experiment\n",
    "# input: output folder path, base experiment, list of experiments to compare\n",
    "# intermidiate input: dataset, image and classes to visualize\n",
    "# output: show related images in this ipynb"
   ]
  },
  {
   "cell_type": "code",
   "execution_count": 2,
   "metadata": {},
   "outputs": [],
   "source": [
    "# import package\n",
    "from os.path import join\n",
    "from pathlib import Path\n",
    "import json\n",
    "from omegaconf import OmegaConf\n",
    "from utils.datasets import SegDataset"
   ]
  },
  {
   "cell_type": "code",
   "execution_count": 3,
   "metadata": {},
   "outputs": [],
   "source": [
    "# input\n",
    "output_folder = \"./output\"\n",
    "base_experiment = \"ddsseg_10_car_0_xxl_rev_delay\"\n",
    "compared_experiment = [\n",
    "    \"ddsseg_10_car_0.5_xxl_rev_delay\",\n",
    "    \"ddsseg_10_car_0.5_xxl_rev_delay_adj\",\n",
    "    \"ddsseg_10_car_0.5_xxl_rev_delay_automobile\",\n",
    "    \"ddsseg_10_car_0.5_xxl_rev_delay_sedan\",\n",
    "]"
   ]
  },
  {
   "cell_type": "markdown",
   "metadata": {},
   "source": [
    "## Choosing Dataset, Image, ClassNames to Visualize"
   ]
  },
  {
   "cell_type": "code",
   "execution_count": 4,
   "metadata": {},
   "outputs": [
    {
     "name": "stdout",
     "output_type": "stream",
     "text": [
      "Available datasets and images:\n",
      "voc_10_car: 10 images\n",
      "voc_sim_10_car: 10 images\n",
      "context_10_car: 10 images\n",
      "coco_10_car: 10 images\n",
      "coco_cap_10_car: 10 images\n",
      "Please choose dataset and image index to visualize.\n"
     ]
    }
   ],
   "source": [
    "# find available datasets and images' indexes\n",
    "base_exp_path = Path(join(output_folder, base_experiment))\n",
    "compared_exp_path = [Path(join(output_folder, exp)) for exp in compared_experiment]\n",
    "datasets_to_img_idx = {}\n",
    "for dataset in base_exp_path.iterdir():\n",
    "    metrics_json = join(dataset, \"segmentation_metrics.json\")\n",
    "    with open(metrics_json, \"r\") as f:\n",
    "        metrics = json.load(f)\n",
    "        datasets_to_img_idx[dataset.name] = metrics['background']['count']\n",
    "print('Available datasets and images:')\n",
    "for dataset in datasets_to_img_idx:\n",
    "    print(f\"{dataset}: {datasets_to_img_idx[dataset]} images\")\n",
    "print('Please choose dataset and image index to visualize.')"
   ]
  },
  {
   "cell_type": "code",
   "execution_count": 5,
   "metadata": {},
   "outputs": [],
   "source": [
    "# intermidiate input\n",
    "dataset_variant = 'coco_cap_10_car'\n",
    "img_idx = 0"
   ]
  },
  {
   "cell_type": "code",
   "execution_count": 6,
   "metadata": {},
   "outputs": [],
   "source": [
    "# find available classes of the image\n",
    "dataset_names = [\"voc_sim\", \"coco_cap\", \"voc\", \"context\", \"coco\"]\n",
    "for name in dataset_names:\n",
    "    if name in dataset_variant:\n",
    "        dataset_cfg = OmegaConf.load(f\"./configs/dataset/{name}.yaml\")\n",
    "        dataset = name\n",
    "        break"
   ]
  },
  {
   "cell_type": "code",
   "execution_count": 7,
   "metadata": {},
   "outputs": [],
   "source": [
    "# intermidiate input\n",
    "cls_to_visualize = [\"car\"]"
   ]
  },
  {
   "cell_type": "markdown",
   "metadata": {},
   "source": [
    "## Visualize Base Experiment Result of the Image"
   ]
  },
  {
   "cell_type": "code",
   "execution_count": 8,
   "metadata": {},
   "outputs": [],
   "source": [
    "# different classes' heatmaps of the image in base experiment"
   ]
  },
  {
   "cell_type": "markdown",
   "metadata": {},
   "source": [
    "## Visualize Compared Experiment Results of the Image"
   ]
  },
  {
   "cell_type": "code",
   "execution_count": 9,
   "metadata": {},
   "outputs": [],
   "source": [
    "# different experiments' heatmaps of the image of the same class"
   ]
  }
 ],
 "metadata": {
  "kernelspec": {
   "display_name": "ddsseg",
   "language": "python",
   "name": "python3"
  },
  "language_info": {
   "codemirror_mode": {
    "name": "ipython",
    "version": 3
   },
   "file_extension": ".py",
   "mimetype": "text/x-python",
   "name": "python",
   "nbconvert_exporter": "python",
   "pygments_lexer": "ipython3",
   "version": "3.11.9"
  }
 },
 "nbformat": 4,
 "nbformat_minor": 2
}
