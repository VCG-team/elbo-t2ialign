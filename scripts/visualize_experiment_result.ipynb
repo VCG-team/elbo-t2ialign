{
 "cells": [
  {
   "cell_type": "code",
   "execution_count": 13,
   "metadata": {},
   "outputs": [],
   "source": [
    "# This script is used to show source img, target img, generated mask, gt mask of specific experiment\n",
    "# input: output folder path, base experiment, list of experiments to compare\n",
    "# intermidiate input: dataset, image and classes to visualize\n",
    "# output: show source img, target img, heatmap, mask, gt in this ipynb"
   ]
  },
  {
   "cell_type": "code",
   "execution_count": 14,
   "metadata": {},
   "outputs": [],
   "source": [
    "# import package\n",
    "from pathlib import Path\n",
    "import json\n",
    "from omegaconf import OmegaConf\n",
    "from utils.datasets import SegDataset\n",
    "import matplotlib.pyplot as plt\n",
    "import numpy as np\n",
    "from PIL import Image"
   ]
  },
  {
   "cell_type": "code",
   "execution_count": 15,
   "metadata": {},
   "outputs": [],
   "source": [
    "# input\n",
    "output_folder = \"./output\"\n",
    "# base experiment is experiments[0]\n",
    "experiments = [\n",
    "    \"ddsseg_10_car_0_xxl_rev_delay\",\n",
    "    \"ddsseg_10_car_0.5_xxl_rev_delay\",\n",
    "    \"ddsseg_10_car_0.5_xxl_rev_delay_adj\",\n",
    "    \"ddsseg_10_car_0.5_xxl_rev_delay_automobile\",\n",
    "    \"ddsseg_10_car_0.5_xxl_rev_delay_sedan\",\n",
    "]\n",
    "# use nicknames to show in the plot\n",
    "exp_nickname = [\n",
    "    \"baseline\",\n",
    "    \"0.5\",\n",
    "    \"0.5_adj\",\n",
    "    \"0.5_automobile\",\n",
    "    \"0.5_sedan\",\n",
    "]"
   ]
  },
  {
   "cell_type": "markdown",
   "metadata": {},
   "source": [
    "## Choosing Dataset, Image, ClassNames to Visualize"
   ]
  },
  {
   "cell_type": "code",
   "execution_count": null,
   "metadata": {},
   "outputs": [],
   "source": [
    "# find available datasets and images' indexes\n",
    "exp_path = [Path(output_folder) / exp for exp in experiments]\n",
    "datasets_to_img_idx = {}\n",
    "for dataset in exp_path[0].iterdir():\n",
    "    metrics_json = dataset / \"segmentation_metrics.json\"\n",
    "    with open(metrics_json, \"r\") as f:\n",
    "        metrics = json.load(f)\n",
    "        datasets_to_img_idx[dataset.name] = metrics[\"background\"][\"count\"]\n",
    "print(\"Available datasets and images count:\")\n",
    "for dataset in datasets_to_img_idx:\n",
    "    print(f\"{dataset}: {datasets_to_img_idx[dataset]} images\")\n",
    "print(\"Please choose one dataset to visualize.\")"
   ]
  },
  {
   "cell_type": "code",
   "execution_count": 17,
   "metadata": {},
   "outputs": [],
   "source": [
    "# intermidiate input\n",
    "dataset_variant = 'voc_10_car'"
   ]
  },
  {
   "cell_type": "code",
   "execution_count": null,
   "metadata": {},
   "outputs": [],
   "source": [
    "# construct dataset\n",
    "dataset_names = [\"voc_sim\", \"coco_cap\", \"voc\", \"context\", \"coco\"]\n",
    "for name in dataset_names:\n",
    "    if name in dataset_variant:\n",
    "        variant = dataset_variant.replace(name, \"\")\n",
    "        dataset_cfg = OmegaConf.load(f\"./configs/dataset/{name}.yaml\")\n",
    "        dataset_cfg.data_name_list = f\"./data/{name}/val_id{variant}.txt\"\n",
    "        dataset = SegDataset(dataset_cfg)\n",
    "        break\n",
    "print(f\"Available images in {dataset_variant}: {len(dataset)}\")\n",
    "print('Please choose one image to visualize.')"
   ]
  },
  {
   "cell_type": "code",
   "execution_count": 19,
   "metadata": {},
   "outputs": [],
   "source": [
    "# intermidiate input\n",
    "img_idx = 0"
   ]
  },
  {
   "cell_type": "code",
   "execution_count": null,
   "metadata": {},
   "outputs": [],
   "source": [
    "# find available classes of the image\n",
    "name, img_path, gt_path, label = dataset[img_idx]\n",
    "cls_names = []\n",
    "cls_name_to_idx = {}\n",
    "for idx, cls_name in enumerate(dataset.category.keys()):\n",
    "    cls_name_to_idx[cls_name] = idx + 1\n",
    "    if label[idx] == 1:\n",
    "        cls_names.append(cls_name)\n",
    "print(f\"Available classes of the image: {cls_names}\")\n",
    "print(\"Please choose classes to visualize.\")"
   ]
  },
  {
   "cell_type": "code",
   "execution_count": 22,
   "metadata": {},
   "outputs": [],
   "source": [
    "# intermidiate input\n",
    "cls_to_visualize = ['car', 'chair', 'motorbike', 'people']"
   ]
  },
  {
   "cell_type": "markdown",
   "metadata": {},
   "source": [
    "## Visualize Base Experiment Result of the Image"
   ]
  },
  {
   "cell_type": "code",
   "execution_count": 23,
   "metadata": {},
   "outputs": [],
   "source": [
    "# load source image and gt to visualize\n",
    "source_img = plt.imread(img_path)  # ndarray (H, W, C)\n",
    "gt = np.array(Image.open(gt_path))  # ndarray (H, W)\n",
    "if dataset.name == \"coco\":\n",
    "    gt = gt + 1\n",
    "    gt[gt > 80] = 0\n",
    "cls_to_gt = {}\n",
    "for cls in cls_to_visualize:\n",
    "    cls_idx = cls_name_to_idx[cls]\n",
    "    cls_gt = gt == cls_idx\n",
    "    cls_to_gt[cls] = cls_gt.astype(np.uint8) * 255\n",
    "# load target image, heatmaps, and masks to visualize\n",
    "exp_cls_to_target = {}\n",
    "exp_cls_to_heatmap = {}\n",
    "exp_cls_to_mask = {}\n",
    "for exp in exp_path:\n",
    "    if exp.name not in exp_cls_to_target:\n",
    "        exp_cls_to_target[exp.name] = {}\n",
    "        exp_cls_to_heatmap[exp.name] = {}\n",
    "        exp_cls_to_mask[exp.name] = {}\n",
    "    mask_path = exp / dataset_variant / \"masks\" / f\"{img_idx}.png\"\n",
    "    mask = np.array(Image.open(mask_path))  # ndarray (H, W)\n",
    "    for cls in cls_to_visualize:\n",
    "        target_path = exp / dataset_variant / \"images\" / f\"{img_idx}_{cls}.png\"\n",
    "        heatmap_path = exp / dataset_variant / \"heatmaps\" / f\"{img_idx}_{cls}.png\"\n",
    "        target = plt.imread(target_path)\n",
    "        heatmap = plt.imread(heatmap_path)\n",
    "        exp_cls_to_target[exp.name][cls] = target\n",
    "        exp_cls_to_heatmap[exp.name][cls] = heatmap\n",
    "        cls_mask = mask == cls_name_to_idx[cls]\n",
    "        exp_cls_to_mask[exp.name][cls] = cls_mask.astype(np.uint8) * 255"
   ]
  },
  {
   "cell_type": "code",
   "execution_count": null,
   "metadata": {},
   "outputs": [],
   "source": [
    "# different classes' heatmaps of the image in base experiment\n",
    "# columns: source img, target img, heatmap, mask, gt\n",
    "# rows: different classes of the image in base experiment\n",
    "row_cnt = len(cls_to_visualize)\n",
    "col_cnt = 5\n",
    "fig, axs = plt.subplots(row_cnt, col_cnt, figsize=(col_cnt * 3, row_cnt * 3))\n",
    "\n",
    "# Ensure axs is always a 2D array\n",
    "if row_cnt == 1:\n",
    "    axs = [axs]\n",
    "\n",
    "for row, cls in enumerate(cls_to_visualize):\n",
    "    axs[row][0].imshow(source_img)\n",
    "    axs[row][1].imshow(exp_cls_to_target[experiments[0]][cls])\n",
    "    axs[row][2].imshow(exp_cls_to_heatmap[experiments[0]][cls])\n",
    "    axs[row][3].imshow(exp_cls_to_mask[experiments[0]][cls])\n",
    "    axs[row][4].imshow(cls_to_gt[cls])\n",
    "\n",
    "for i in range(row_cnt):\n",
    "    for j in range(col_cnt):\n",
    "        axs[i][j].tick_params(left=False, right=False, labelleft=False, labelbottom=False, bottom=False)\n",
    "\n",
    "for j, title in enumerate([\"source img\", \"target img\", \"heatmap\", \"mask\", \"gt\"]):\n",
    "    axs[0][j].set_title(title)\n",
    "\n",
    "for i, cls in enumerate(cls_to_visualize):\n",
    "    axs[i][0].set_ylabel(cls)\n",
    "\n",
    "plt.tight_layout()\n",
    "plt.show()"
   ]
  },
  {
   "cell_type": "markdown",
   "metadata": {},
   "source": [
    "## Visualize Compared Experiment Results of the Image"
   ]
  },
  {
   "cell_type": "code",
   "execution_count": null,
   "metadata": {},
   "outputs": [],
   "source": [
    "# different experiments' heatmaps of the image of the same class\n",
    "# columns: source img, target img, heatmap, mask, gt\n",
    "# rows: different experiments\n",
    "for cls in cls_to_visualize:\n",
    "    print(f\"Class: {cls}\")\n",
    "    row_cnt = len(experiments)\n",
    "    col_cnt = 5\n",
    "    fig, axs = plt.subplots(row_cnt, col_cnt, figsize=(col_cnt * 3, row_cnt * 3))\n",
    "\n",
    "    # Ensure axs is always a 2D array\n",
    "    if row_cnt == 1:\n",
    "        axs = [axs]\n",
    "\n",
    "    for row, exp in enumerate(experiments):\n",
    "        axs[row][0].imshow(source_img)\n",
    "        axs[row][1].imshow(exp_cls_to_target[exp][cls])\n",
    "        axs[row][2].imshow(exp_cls_to_heatmap[exp][cls])\n",
    "        axs[row][3].imshow(exp_cls_to_mask[exp][cls])\n",
    "        axs[row][4].imshow(cls_to_gt[cls])\n",
    "\n",
    "    for i in range(row_cnt):\n",
    "        for j in range(col_cnt):\n",
    "            axs[i][j].tick_params(left=False, right=False, labelleft=False, labelbottom=False, bottom=False)\n",
    "\n",
    "    for j, title in enumerate([\"source img\", \"target img\", \"heatmap\", \"mask\", \"gt\"]):\n",
    "        axs[0][j].set_title(title)\n",
    "\n",
    "    for i, exp in enumerate(exp_nickname):\n",
    "        axs[i][0].set_ylabel(exp)\n",
    "\n",
    "    plt.tight_layout()\n",
    "    plt.show()"
   ]
  }
 ],
 "metadata": {
  "kernelspec": {
   "display_name": "ddsseg",
   "language": "python",
   "name": "python3"
  },
  "language_info": {
   "codemirror_mode": {
    "name": "ipython",
    "version": 3
   },
   "file_extension": ".py",
   "mimetype": "text/x-python",
   "name": "python",
   "nbconvert_exporter": "python",
   "pygments_lexer": "ipython3",
   "version": "3.11.9"
  }
 },
 "nbformat": 4,
 "nbformat_minor": 2
}
